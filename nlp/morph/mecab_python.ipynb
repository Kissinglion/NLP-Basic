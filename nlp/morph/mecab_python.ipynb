{
 "cells": [
  {
   "cell_type": "code",
   "execution_count": 1,
   "metadata": {},
   "outputs": [],
   "source": [
    "import MeCab\n",
    "from mecab_split import mecabsplit # custom module"
   ]
  },
  {
   "cell_type": "code",
   "execution_count": 2,
   "metadata": {},
   "outputs": [],
   "source": [
    "tagger = MeCab.Tagger('-d /usr/local/lib/mecab/dic/mecab-ko-dic')"
   ]
  },
  {
   "cell_type": "code",
   "execution_count": 5,
   "metadata": {},
   "outputs": [
    {
     "name": "stdout",
     "output_type": "stream",
     "text": [
      "이\tMM,~명사,F,이,*,*,*,*\n",
      "체한\tNNG,*,T,체한,*,*,*,*\n",
      "도\tJX,*,F,도,*,*,*,*\n",
      "어떻\tVA,*,T,어떻,*,*,*,*\n",
      "게\tEC,*,F,게,*,*,*,*\n",
      "빼\tVV,*,F,빼,*,*,*,*\n",
      "요\tEC,*,F,요,*,*,*,*\n",
      "EOS\n",
      "\n"
     ]
    }
   ],
   "source": [
    "sentence = '이체한도 어떻게 빼요'\n",
    "\n",
    "print (tagger.parse(sentence))"
   ]
  },
  {
   "cell_type": "code",
   "execution_count": 4,
   "metadata": {
    "scrolled": true
   },
   "outputs": [
    {
     "name": "stdout",
     "output_type": "stream",
     "text": [
      "한국어\tNNG,*,F,한국어,Compound,*,*,한국/NNG/*+어/NNG/*\n",
      "품\tNNG,*,T,품,*,*,*,*\n",
      "사태\tNNG,*,F,사태,*,*,*,*\n",
      "깅\tUNKNOWN,*,*,*,*,*,*,*\n",
      "테스트\tNNG,행위,F,테스트,*,*,*,*\n",
      "EOS\n",
      "\n"
     ]
    }
   ],
   "source": [
    "sentence = '한국어 품사태깅 테스트'\n",
    "print (tagger.parse(sentence))"
   ]
  },
  {
   "cell_type": "code",
   "execution_count": 5,
   "metadata": {},
   "outputs": [
    {
     "name": "stdout",
     "output_type": "stream",
     "text": [
      "['한국', '어', '품', '사태', '깅', '테스트']\n",
      "[('한국', 'NNG'), ('어', 'NNG'), ('품', 'NNG'), ('사태', 'NNG'), ('깅', 'UNKNOWN'), ('테스트', 'NNG')]\n"
     ]
    }
   ],
   "source": [
    "print (mecabsplit(tagger,sentence,False))\n",
    "print (mecabsplit(tagger,sentence,True))"
   ]
  },
  {
   "cell_type": "code",
   "execution_count": null,
   "metadata": {},
   "outputs": [],
   "source": []
  },
  {
   "cell_type": "code",
   "execution_count": null,
   "metadata": {},
   "outputs": [],
   "source": []
  }
 ],
 "metadata": {
  "kernelspec": {
   "display_name": "Python 3",
   "language": "python",
   "name": "python3"
  },
  "language_info": {
   "codemirror_mode": {
    "name": "ipython",
    "version": 3
   },
   "file_extension": ".py",
   "mimetype": "text/x-python",
   "name": "python",
   "nbconvert_exporter": "python",
   "pygments_lexer": "ipython3",
   "version": "3.6.5"
  }
 },
 "nbformat": 4,
 "nbformat_minor": 2
}
