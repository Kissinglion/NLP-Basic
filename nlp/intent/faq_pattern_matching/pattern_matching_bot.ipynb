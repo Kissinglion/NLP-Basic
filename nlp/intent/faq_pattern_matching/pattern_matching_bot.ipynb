{
 "cells": [
  {
   "cell_type": "code",
   "execution_count": 1,
   "metadata": {},
   "outputs": [],
   "source": [
    "import io\n",
    "import os\n",
    "import MeCab\n",
    "import re\n",
    "import module\n",
    "import sys"
   ]
  },
  {
   "cell_type": "code",
   "execution_count": 2,
   "metadata": {},
   "outputs": [],
   "source": [
    "sm = module.sentence_matching('pattern_collect.txt')"
   ]
  },
  {
   "cell_type": "code",
   "execution_count": 3,
   "metadata": {},
   "outputs": [],
   "source": [
    "answer = {}\n",
    "for line in open('answer.txt','r',encoding='utf-8'):\n",
    "    line = line.strip().split('\\t')\n",
    "    answer[line[0]] = line[1]"
   ]
  },
  {
   "cell_type": "code",
   "execution_count": 4,
   "metadata": {},
   "outputs": [],
   "source": [
    "def proc(line):\n",
    "    sm.input_sent(line)\n",
    "    \n",
    "    sent,sent_pos,info = sm.matches()\n",
    "    \n",
    "    print(info)\n",
    "    print()\n",
    "    print ('response : ',answer[info['intent']])\n",
    "    print ()\n"
   ]
  },
  {
   "cell_type": "code",
   "execution_count": 5,
   "metadata": {},
   "outputs": [
    {
     "name": "stdout",
     "output_type": "stream",
     "text": [
      "입력 : 이체한도 증액 방법\n",
      "형태소 분석 결과[('이체한도', 'NNG'), ('증액', 'NNG'), ('방법', 'NNG')]\n",
      "['이체한도/NNG', '증액|감액|변경|수정/NNG', '방법/NNG']\n",
      "{'intent': '이체한도변경'}\n",
      "\n",
      "response :  이체한도 증액은 영업점에서만 변경신청이 가능하며, 본인이 '실명확인증표'를 지참하시고 가까운 영업점에 방문하시어 변경하시기 바랍니다. 이체한도 감액은 지점과 인터넷상에서 변경신청이 가능합니다. 경로 - 개인 : 개인 > 뱅킹관리 > 인터넷 뱅킹관리 > 이체한도 조회/감액\n",
      "\n",
      "입력 : 해외 송금 비용\n",
      "형태소 분석 결과[('해외', 'NNG'), ('송금', 'NNG'), ('비용', 'NNG')]\n",
      "['해외/NNG', '송금/NNG', '수수료|비용/NNG']\n",
      "{'intent': '해외송금 수수료'}\n",
      "\n",
      "response :  해외은행송금시 적용환율 및 수수료는 다음과 같습니다. 외화송금 수수료 - USD  5,000 이하 : 3,000원 - USD  5,000 초과 : 5,000원\n",
      "\n",
      "입력 : 퇴직연금 중도 인출\n",
      "형태소 분석 결과[('퇴직연금', 'NNG'), ('중도', 'NNG'), ('인출', 'NNG')]\n",
      "['퇴직연금/NNG', '중도/NNG', '인출|해지/NNG']\n",
      "{'intent': '퇴직연금 중도인출'}\n",
      "\n",
      "response :  확정기여형(DC)제도 및 IRP제도에서 가입자가 목돈이 필요한 경우 법정 사유 발생시 중도인출(일부/전부)이 허용되고 있습니다.\n",
      "\n"
     ]
    }
   ],
   "source": [
    "\n",
    "if len(sys.argv)==1:\n",
    "    while True:\n",
    "      print ('입력 : ',end='')\n",
    "      line=input().strip()\n",
    "      proc(line)\n",
    "else:\n",
    "    for line in open('input.txt','r',encoding='utf-8'):\n",
    "        line = line.strip()\n",
    "        print('입력 : ',end='')\n",
    "        print(line)\n",
    "        proc(line)"
   ]
  },
  {
   "cell_type": "code",
   "execution_count": null,
   "metadata": {},
   "outputs": [],
   "source": []
  },
  {
   "cell_type": "code",
   "execution_count": null,
   "metadata": {},
   "outputs": [],
   "source": []
  }
 ],
 "metadata": {
  "kernelspec": {
   "display_name": "Python 3",
   "language": "python",
   "name": "python3"
  },
  "language_info": {
   "codemirror_mode": {
    "name": "ipython",
    "version": 3
   },
   "file_extension": ".py",
   "mimetype": "text/x-python",
   "name": "python",
   "nbconvert_exporter": "python",
   "pygments_lexer": "ipython3",
   "version": "3.6.5"
  }
 },
 "nbformat": 4,
 "nbformat_minor": 2
}
