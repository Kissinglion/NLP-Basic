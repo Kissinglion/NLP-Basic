{
 "cells": [
  {
   "cell_type": "code",
   "execution_count": 1,
   "metadata": {},
   "outputs": [
    {
     "name": "stdout",
     "output_type": "stream",
     "text": [
      "10000\n",
      "100\n",
      "['7797314', '원작의 긴장감을 제대로 살려내지못했다.', '0']\n",
      "['7898805', '음악이 주가 된, 최고의 음악영화', '1']\n"
     ]
    }
   ],
   "source": [
    "import codecs\n",
    "def read_data(filename):\n",
    "    with codecs.open(filename, 'r', 'utf-8') as f:\n",
    "        data = [line.split('\\t') for line in f.read().splitlines()]\n",
    "        data = data[1:]\n",
    "    return data\n",
    "\n",
    "train_data = read_data('../nsm/small_ratings_train.txt')\n",
    "test_data = read_data('../nsm/small_ratings_test.txt')\n",
    "\n",
    "print(len(train_data))\n",
    "print(len(test_data))\n",
    "print (train_data[0])\n",
    "print (test_data[0])"
   ]
  },
  {
   "cell_type": "code",
   "execution_count": 2,
   "metadata": {},
   "outputs": [
    {
     "name": "stdout",
     "output_type": "stream",
     "text": [
      "Wall time: 596 ms\n"
     ]
    }
   ],
   "source": [
    "%%time\n",
    "# Open-text 형태소 분석기 import\n",
    "import MeCab\n",
    "from mecab_split import mecabsplit\n",
    "tagger = MeCab.Tagger()\n",
    "\n",
    "def tokenize(doc):\n",
    "    return ' '.join(mecabsplit(tagger, doc, False))\n",
    "    #return ['/'.join(t) for t in pos_tagger.pos(doc, norm=True, stem=True)]\n",
    "#print (train_data[0])\n",
    "#line = mecabsplit(tagger,train_data[0][1],False)\n",
    "\n",
    "\n",
    "#train_docs = [(tokenize(row[1]), row[2]) for row in train_data]\n",
    "train_docs_X = [tokenize(row[1]) for row in train_data]\n",
    "train_Y = [row[2] for row in train_data]\n",
    "\n",
    "test_docs_X = [tokenize(row[1]) for row in test_data]\n",
    "test_Y = [row[2] for row in test_data]\n"
   ]
  },
  {
   "cell_type": "code",
   "execution_count": 3,
   "metadata": {},
   "outputs": [
    {
     "name": "stdout",
     "output_type": "stream",
     "text": [
      "원작 의 긴장 감 을 제대로 살리 어 내 지 못하 았 다 .\n",
      "0\n",
      "액션 이 없 는데 도 재미 있 는 몇 안 되 는 영화\n",
      "1\n"
     ]
    }
   ],
   "source": [
    "print(train_docs_X[0])\n",
    "print(train_Y[0])\n",
    "print(train_docs_X[1])\n",
    "print(train_Y[1])"
   ]
  },
  {
   "cell_type": "code",
   "execution_count": 4,
   "metadata": {},
   "outputs": [],
   "source": [
    "from sklearn.feature_extraction.text import CountVectorizer\n",
    "vec = CountVectorizer(max_features = 1000).fit(train_docs_X)\n",
    "\n",
    "train_X = vec.transform(train_docs_X).toarray()\n",
    "test_X = vec.transform(test_docs_X).toarray()\n"
   ]
  },
  {
   "cell_type": "code",
   "execution_count": 5,
   "metadata": {},
   "outputs": [
    {
     "name": "stdout",
     "output_type": "stream",
     "text": [
      "[0 0 0 0 0 0 0 0 0 0 0 0 0 0 0 0 0 0 0 0 0 0 0 0 0 0 0 0 0 0 0 0 0 0 0 0 0\n",
      " 0 0 0 0 0 0 0 0 0 0 0 0 0 0 0 0 0 0 0 0 0 0 0 0 0 0 0 0 0 0 0 0 0 0 0 0 0\n",
      " 0 0 0 0 0 0 0 0 0 0 0 0 0 0 0 0 0 0 0 0 0 0 0 0 0 0 0 0 0 0 0 0 0 0 0 0 0\n",
      " 0 0 0 0 0 0 0 0 0 0 0 0 0 0 0 0 0 0 0 0 0 0 0 0 0 0 0 0 0 0 0 0 0 0 0 0 0\n",
      " 0 0 0 0 0 0 0 0 0 0 0 0 0 0 0 0 0 0 0 0 0 0 0 0 0 0 0 0 0 0 0 0 0 0 0 0 1\n",
      " 0 0 0 0 0 0 0 0 0 0 0 0 0 0 0 0 0 0 0 0 0 0 0 0 0 0 0 0 0 0 0 0 0 0 0 0 0\n",
      " 0 0 0 0 0 0 0 0 0 0 0 0 0 0 0 0 0 0 0 0 0 0 0 0 0 0 0 0 0 0 0 0 0 0 0 0 0\n",
      " 0 0 0 0 0 0 0 0 0 0 0 0 0 0 0 0 0 0 0 0 0 0 0 0 0 0 0 0 0 0 0 0 0 0 0 0 0\n",
      " 0 0 0 0 0 0 0 0 0 0 0 0 0 0 0 0 0 0 0 0 0 0 0 0 0 0 0 0 0 0 0 0 0 0 0 0 0\n",
      " 0 0 0 0 0 0 0 0 0 0 0 0 0 0 0 0 0 0 0 0 0 0 0 0 0 0 0 0 0 0 0 0 0 0 0 0 0\n",
      " 0 0 0 0 0 0 0 0 0 1 0 0 0 0 0 0 0 0 0 0 0 0 0 0 0 0 0 0 0 0 0 0 0 0 0 0 0\n",
      " 0 0 0 0 0 0 0 0 0 0 0 0 0 0 0 0 0 0 0 0 0 0 0 0 0 0 0 0 0 0 0 0 0 0 0 0 0\n",
      " 0 0 0 0 0 0 0 0 0 0 0 0 0 0 0 0 0 0 0 0 0 0 0 0 1 0 0 0 0 0 0 0 0 0 0 0 0\n",
      " 0 0 0 0 0 0 0 0 0 0 0 0 0 0 0 0 0 0 0 0 0 0 0 0 0 0 0 0 0 0 0 0 0 0 0 0 0\n",
      " 0 0 0 0 0 0 0 0 0 0 0 0 0 0 0 0 0 0 0 0 0 0 0 0 0 0 0 0 0 0 0 0 0 0 0 0 0\n",
      " 0 0 0 0 0 0 0 0 0 0 0 0 0 0 0 0 0 0 0 0 0 0 0 0 0 0 0 0 0 0 0 0 0 0 0 0 0\n",
      " 0 0 0 0 0 0 0 0 0 0 0 0 0 0 0 0 0 0 0 0 0 0 0 0 0 0 0 0 0 0 0 0 0 0 0 0 0\n",
      " 0 0 0 0 0 0 0 0 0 0 0 0 0 0 0 0 0 0 0 0 0 0 0 0 0 0 0 0 0 0 0 0 0 0 0 0 0\n",
      " 0 0 0 0 0 0 0 0 0 0 0 0 0 0 0 0 0 0 0 0 0 0 0 0 0 0 0 0 0 0 0 0 0 0 0 1 0\n",
      " 0 0 0 0 0 0 0 0 0 0 0 0 0 0 0 0 0 0 0 0 0 0 0 0 0 0 0 0 0 0 0 0 0 0 0 0 0\n",
      " 0 0 0 0 0 0 0 0 0 0 0 0 0 0 0 0 0 0 0 0 0 0 0 0 0 0 0 0 0 0 0 0 0 0 0 0 0\n",
      " 0 0 0 0 0 0 0 0 0 0 0 0 0 0 0 0 0 0 0 0 0 0 0 0 0 0 0 0 0 0 0 0 0 0 0 0 0\n",
      " 0 0 0 1 0 0 0 0 0 0 0 0 0 0 0 0 0 0 0 0 0 0 0 0 0 0 0 0 0 0 0 0 0 0 0 0 0\n",
      " 0 0 0 0 0 0 0 0 0 0 0 0 0 0 0 0 0 0 0 0 0 0 0 0 0 0 0 0 0 0 0 0 0 0 0 0 0\n",
      " 0 0 0 0 0 0 0 0 0 0 0 0 0 0 0 0 0 0 0 0 0 0 0 0 0 0 0 0 0 0 0 0 0 0 0 0 0\n",
      " 0 0 0 0 0 0 0 0 0 0 0 0 0 0 0 0 0 0 0 0 0 0 0 0 0 0 0 0 0 0 0 0 0 0 0 0 0\n",
      " 0 0 0 0 0 0 0 0 0 0 0 0 0 0 0 0 0 0 0 0 0 0 0 0 0 0 0 0 0 0 0 0 0 0 0 0 0\n",
      " 0]\n",
      "10000\n"
     ]
    }
   ],
   "source": [
    "print(train_X[0])\n",
    "print(len(train_X))"
   ]
  },
  {
   "cell_type": "code",
   "execution_count": 6,
   "metadata": {},
   "outputs": [
    {
     "name": "stdout",
     "output_type": "stream",
     "text": [
      "Accuracy on training set: 0.724\n",
      "Accuracy on test set: 0.720\n",
      "Wall time: 595 ms\n"
     ]
    }
   ],
   "source": [
    "%%time\n",
    "from sklearn.naive_bayes import GaussianNB\n",
    "gnb = GaussianNB()\n",
    "\n",
    "gnb.fit(train_X, train_Y)\n",
    "\n",
    "print(\"Accuracy on training set: {:.3f}\".format(gnb.score(train_X, train_Y)))\n",
    "print(\"Accuracy on test set: {:.3f}\".format(gnb.score(test_X, test_Y)))"
   ]
  },
  {
   "cell_type": "code",
   "execution_count": 7,
   "metadata": {},
   "outputs": [
    {
     "name": "stdout",
     "output_type": "stream",
     "text": [
      "Predicted as Positive:\n",
      "입력 음악 이 주 가 되 ᆫ , 최고 의 음악 영화\n",
      "정답 1\n",
      "출력 ['1']\n",
      "입력 괜찮 네요 오랜 만 포켓몬스터 재 ᄆ 밌어요\n",
      "정답 1\n",
      "출력 ['1']\n",
      "입력 청춘 은 아름답 다 그 아름답 ᄆ 은 이성 을 흔들 어 놓 는다 . 찰나 의 아름답 ᄆ 을 잘 포착 하 ᆫ 섬세 하 고 아름답 ᆫ 수채 화 같 은 퀴어 영화 이 다 .\n",
      "정답 1\n",
      "출력 ['1']\n",
      "입력 눈 에 보이 는 반전 이 었 지만 영화 의 흡인 력 은 사라지 지 않 았 다 .\n",
      "정답 1\n",
      "출력 ['0']\n",
      "입력 최고 ! !!!!!!!!!!!!!!!\n",
      "정답 1\n",
      "출력 ['1']\n",
      "\n",
      "Predicted as Negative:\n",
      "입력 뭣 이 야 이 평점 들 은 . ... 나쁘 지 ㄴ 않 지만 10 점 짜리 는 더더욱 아니 잖아\n",
      "정답 0\n",
      "출력 ['1']\n",
      "입력 지루 하 지 는 않 은데 완전 막장 이 ᄆ . .. 돈 줏 고 보 기 에 는 . ...\n",
      "정답 0\n",
      "출력 ['0']\n",
      "입력 3 D 만 아니 었 어도 별 다섯 개 주 ㅓㅆ 을 터 이 ᆫ데 . . 왜 3 D 로 나오 아서 저 의 심기 를 불편 하 게 않 죠 ? ?\n",
      "정답 0\n",
      "출력 ['1']\n",
      "입력 진정 하 ᆫ 쓰레기\n",
      "정답 0\n",
      "출력 ['1']\n",
      "입력 한국 독립 영화 의 한계 그렇게 아버지 가 되 ᆫ다 와 비교 되 ᄆ\n",
      "정답 0\n",
      "출력 ['0']\n"
     ]
    }
   ],
   "source": [
    "pos = [ [test_docs_X[i], test_Y[i], gnb.predict([test_X[i]]) ] for i in range(len(test_Y)) if test_Y[i] == '1' ]\n",
    "neg = [ [test_docs_X[i], test_Y[i], gnb.predict([test_X[i]]) ] for i in range(len(test_Y)) if test_Y[i] == '0' ]\n",
    "#crr= []\n",
    "#for i in range(len(test_Y)):\n",
    "#    if test_Y[i] == '1':\n",
    "#        crr.append([test_docs_X[i], test_Y[i], gnb_predict([test_X[i]]) ])\n",
    "#print (crr)\n",
    "print ('Predicted as Positive:')\n",
    "for i in pos[:5]:\n",
    "    print ('입력', i[0])\n",
    "    print ('정답', i[1])\n",
    "    print ('출력', i[2])\n",
    "print ('\\nPredicted as Negative:')\n",
    "for i in neg[:5]:\n",
    "    print ('입력', i[0])\n",
    "    print ('정답', i[1])\n",
    "    print ('출력', i[2])\n"
   ]
  },
  {
   "cell_type": "code",
   "execution_count": null,
   "metadata": {},
   "outputs": [],
   "source": []
  }
 ],
 "metadata": {
  "kernelspec": {
   "display_name": "Python 3",
   "language": "python",
   "name": "python3"
  },
  "language_info": {
   "codemirror_mode": {
    "name": "ipython",
    "version": 3
   },
   "file_extension": ".py",
   "mimetype": "text/x-python",
   "name": "python",
   "nbconvert_exporter": "python",
   "pygments_lexer": "ipython3",
   "version": "3.6.5"
  }
 },
 "nbformat": 4,
 "nbformat_minor": 2
}
