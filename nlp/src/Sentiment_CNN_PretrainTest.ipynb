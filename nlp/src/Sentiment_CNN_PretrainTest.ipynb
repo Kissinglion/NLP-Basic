{
 "cells": [
  {
   "cell_type": "code",
   "execution_count": 1,
   "metadata": {},
   "outputs": [
    {
     "name": "stdout",
     "output_type": "stream",
     "text": [
      "0.3.1.post2\n"
     ]
    }
   ],
   "source": [
    "import torch\n",
    "import torch.nn as nn\n",
    "import torch.nn.functional as F\n",
    "from torch.autograd import Variable\n",
    "import torchtext.data as data\n",
    "import torchtext.datasets as datasets\n",
    "import pickle\n",
    "\n",
    "print(torch.__version__)"
   ]
  },
  {
   "cell_type": "code",
   "execution_count": 2,
   "metadata": {},
   "outputs": [],
   "source": [
    "class CNN_Text(nn.Module):\n",
    "    \n",
    "    def __init__(self, embed_num, class_num):\n",
    "        super(CNN_Text, self).__init__()\n",
    "        V = embed_num\n",
    "        C = class_num\n",
    "        Co = 50 #args.kernel_num\n",
    "        Ks = [2,3,4]\n",
    "\n",
    "        self.embed = nn.Embedding(V, 100)\n",
    "        self.convs1 = nn.ModuleList([nn.Conv2d(1, Co, (K, 100)) for K in Ks])\n",
    "        self.dropout = nn.Dropout(0.2)\n",
    "        self.fc1 = nn.Linear(len(Ks)*Co, C)\n",
    "\n",
    "    def forward(self, x):\n",
    "        x = self.embed(x)  # (N, W, D)\n",
    "        x = x.unsqueeze(1)  # (N, Ci, W, D)\n",
    "        x = [F.relu(conv(x)).squeeze(3) for conv in self.convs1]  # [(N, Co, W), ...]*len(Ks)\n",
    "        x = [F.max_pool1d(i, i.size(2)).squeeze(2) for i in x]  # [(N, Co), ...]*len(Ks)\n",
    "        x = torch.cat(x, 1)\n",
    "        x = self.dropout(x)  # (N, len(Ks)*Co)\n",
    "        logit = self.fc1(x)  # (N, C)\n",
    "        return logit"
   ]
  },
  {
   "cell_type": "code",
   "execution_count": 3,
   "metadata": {},
   "outputs": [],
   "source": [
    "class mydataset(data.Dataset):\n",
    "    @staticmethod\n",
    "    def sort_key(ex):\n",
    "        return len(ex.text)\n",
    "    def __init__(self, text_field, label_field, path=None, examples=None, **kwargs):\n",
    "        fields = [('text', text_field), ('label', label_field)]\n",
    "        if examples is None:\n",
    "            path = self.dirname if path is None else path\n",
    "            examples = []\n",
    "            for i,line in enumerate(open(path,'r',encoding='utf-8')):\n",
    "                if i==0:\n",
    "                    continue\n",
    "                line = line.strip().split('\\t')\n",
    "                txt= [ d.split('/')[0] for d in line[1].split(' ') ]\n",
    "                \n",
    "                examples += [ data.Example.fromlist( [ txt, line[2]],fields ) ]\n",
    "                \n",
    "        super(mydataset, self).__init__(examples, fields, **kwargs)\n",
    "        #**print(examples)\n",
    "        #**print(fields)"
   ]
  },
  {
   "cell_type": "code",
   "execution_count": 4,
   "metadata": {
    "scrolled": false
   },
   "outputs": [
    {
     "data": {
      "text/plain": [
       "61490"
      ]
     },
     "execution_count": 4,
     "metadata": {},
     "output_type": "execute_result"
    }
   ],
   "source": [
    "text_field = data.Field(batch_first = True, fix_length = 20 )\n",
    "label_field = data.Field(sequential= False, batch_first = True, unk_token = None )\n",
    "\n",
    "train_data = mydataset(text_field,label_field,path='../nsm/twit_ratings_train.txt')\n",
    "\n",
    "test_data = mydataset(text_field,label_field,path='../nsm/twit_ratings_test.txt')\n",
    "\n",
    "text_field.build_vocab(train_data)\n",
    "label_field.build_vocab(train_data)\n",
    "\n",
    "train_iter, test_iter = data.Iterator.splits(\n",
    "                            (train_data, test_data), \n",
    "                            batch_sizes=(100, 1), repeat=False)#, device= 'cuda')\n",
    "len(text_field.vocab)"
   ]
  },
  {
   "cell_type": "code",
   "execution_count": 5,
   "metadata": {},
   "outputs": [],
   "source": [
    "cnn = torch.load('model/cnn_model_large.pt', map_location=lambda storage, loc: storage)"
   ]
  },
  {
   "cell_type": "code",
   "execution_count": 6,
   "metadata": {},
   "outputs": [
    {
     "name": "stdout",
     "output_type": "stream",
     "text": [
      "correct :  38987\n",
      "incorrect :  11013\n",
      "\n",
      "Wall time: 19.7 s\n"
     ]
    }
   ],
   "source": [
    "%%time\n",
    "cnn.eval()\n",
    "correct = 0\n",
    "incorrect = 0\n",
    "for batch in test_iter:\n",
    "    txt = batch.text\n",
    "    label = batch.label\n",
    "    \n",
    "    pred = cnn(txt)\n",
    "    _,ans = torch.max(pred,dim=1)\n",
    "    \n",
    "    if ans.data[0] == label.data[0]:\n",
    "        correct += 1    \n",
    "    else:\n",
    "        incorrect += 1\n",
    "    \n",
    "print ('correct : ', correct)\n",
    "print ('incorrect : ', incorrect)\n",
    "print ()"
   ]
  },
  {
   "cell_type": "code",
   "execution_count": null,
   "metadata": {},
   "outputs": [],
   "source": []
  }
 ],
 "metadata": {
  "kernelspec": {
   "display_name": "Python 3",
   "language": "python",
   "name": "python3"
  },
  "language_info": {
   "codemirror_mode": {
    "name": "ipython",
    "version": 3
   },
   "file_extension": ".py",
   "mimetype": "text/x-python",
   "name": "python",
   "nbconvert_exporter": "python",
   "pygments_lexer": "ipython3",
   "version": "3.6.5"
  }
 },
 "nbformat": 4,
 "nbformat_minor": 2
}
