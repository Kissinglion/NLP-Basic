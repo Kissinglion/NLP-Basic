{
 "cells": [
  {
   "cell_type": "code",
   "execution_count": 1,
   "metadata": {},
   "outputs": [
    {
     "name": "stdout",
     "output_type": "stream",
     "text": [
      "0.3.1.post2\n"
     ]
    }
   ],
   "source": [
    "import torch\n",
    "import torch.nn as nn\n",
    "import torch.nn.functional as F\n",
    "from torch.autograd import Variable\n",
    "import torchtext.data as data\n",
    "import torchtext.datasets as datasets\n",
    "import pickle\n",
    "print (torch.__version__)"
   ]
  },
  {
   "cell_type": "code",
   "execution_count": 2,
   "metadata": {},
   "outputs": [],
   "source": [
    "class RNN_Text(nn.Module):\n",
    "    \n",
    "    def __init__(self, embed_num, class_num):\n",
    "        super(RNN_Text, self).__init__()\n",
    "        V = embed_num\n",
    "        C = class_num\n",
    "        H = 256\n",
    "        \n",
    "        self.embed = nn.Embedding(V, 100)\n",
    "        self.rnn = nn.LSTM(100,H, bidirectional = True)\n",
    "        self.out = nn.Linear(H*2, C)\n",
    "        \n",
    "    def forward(self, x):\n",
    "        x = self.embed(x)  # (N, W, D)\n",
    "        #x = x.unsqueeze(1)  # (N, Ci, W, D)\n",
    "        x,(_,__) = self.rnn( x, ( self.h, self.c ) )\n",
    "        \n",
    "        logit = self.out(x[-1])\n",
    "        return logit\n",
    "    def inithidden(self,b):\n",
    "        self.h = Variable(torch.randn(2, b, 256))\n",
    "        self.c = Variable(torch.randn(2, b, 256))\n",
    "        "
   ]
  },
  {
   "cell_type": "code",
   "execution_count": 3,
   "metadata": {},
   "outputs": [],
   "source": [
    "class mydataset(data.Dataset):\n",
    "    @staticmethod\n",
    "    def sort_key(ex):\n",
    "        return len(ex.text)\n",
    "    def __init__(self, text_field, label_field, path=None, examples=None, **kwargs):\n",
    "        fields = [('text', text_field), ('label', label_field)]\n",
    "        if examples is None:\n",
    "            path = self.dirname if path is None else path\n",
    "            examples = []\n",
    "            for i,line in enumerate(open(path,'r',encoding='utf-8')):\n",
    "                if i==0:\n",
    "                    continue\n",
    "                line = line.strip().split('\\t')\n",
    "                \n",
    "                txt= [ d.split('/')[0] for d in line[1].split(' ') ]\n",
    "                examples += [ data.Example.fromlist( [txt, line[2]],fields ) ]\n",
    "        super(mydataset, self).__init__(examples, fields, **kwargs)"
   ]
  },
  {
   "cell_type": "code",
   "execution_count": 4,
   "metadata": {},
   "outputs": [
    {
     "data": {
      "text/plain": [
       "61490"
      ]
     },
     "execution_count": 4,
     "metadata": {},
     "output_type": "execute_result"
    }
   ],
   "source": [
    "text_field = data.Field()\n",
    "label_field = data.Field(sequential=False, batch_first = True, unk_token = None)\n",
    "\n",
    "train_data = mydataset(text_field,label_field,path='../nsm/twit_ratings_train.txt')\n",
    "\n",
    "test_data = mydataset(text_field,label_field,path='../nsm/twit_ratings_test.txt')\n",
    "\n",
    "text_field.build_vocab(train_data)\n",
    "label_field.build_vocab(train_data)\n",
    "\n",
    "train_iter, test_iter = data.Iterator.splits(\n",
    "                            (train_data, test_data), \n",
    "                            batch_sizes=(100, 1), repeat=False)\n",
    "len(text_field.vocab)"
   ]
  },
  {
   "cell_type": "code",
   "execution_count": 5,
   "metadata": {},
   "outputs": [],
   "source": [
    "rnn = torch.load('model/rnn_model_large.pt', map_location=lambda storage, loc: storage)"
   ]
  },
  {
   "cell_type": "code",
   "execution_count": 6,
   "metadata": {},
   "outputs": [
    {
     "name": "stdout",
     "output_type": "stream",
     "text": [
      "correct :  42247\n",
      "incorrect :  7753\n",
      "\n",
      "Wall time: 3min 3s\n"
     ]
    }
   ],
   "source": [
    "%%time\n",
    "\n",
    "correct = 0\n",
    "incorrect = 0\n",
    "for batch in test_iter:\n",
    "    txt = batch.text\n",
    "    label = batch.label\n",
    "    \n",
    "    rnn.inithidden(txt.size(1))\n",
    "    \n",
    "    pred = rnn(txt)\n",
    "    _,ans = torch.max(pred,dim=1)\n",
    "    \n",
    "    if ans.data[0] == label.data[0]:\n",
    "        correct += 1    \n",
    "    else:\n",
    "        incorrect += 1\n",
    "    \n",
    "print ('correct : ', correct)\n",
    "print ('incorrect : ', incorrect)\n",
    "print ()\n"
   ]
  },
  {
   "cell_type": "code",
   "execution_count": null,
   "metadata": {},
   "outputs": [],
   "source": []
  }
 ],
 "metadata": {
  "kernelspec": {
   "display_name": "Python 3",
   "language": "python",
   "name": "python3"
  },
  "language_info": {
   "codemirror_mode": {
    "name": "ipython",
    "version": 3
   },
   "file_extension": ".py",
   "mimetype": "text/x-python",
   "name": "python",
   "nbconvert_exporter": "python",
   "pygments_lexer": "ipython3",
   "version": "3.6.5"
  }
 },
 "nbformat": 4,
 "nbformat_minor": 2
}
