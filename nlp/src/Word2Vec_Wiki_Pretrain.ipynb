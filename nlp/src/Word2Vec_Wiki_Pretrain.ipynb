{
 "cells": [
  {
   "cell_type": "code",
   "execution_count": 1,
   "metadata": {
    "scrolled": true
   },
   "outputs": [],
   "source": [
    "import os\n",
    "import gensim\n",
    "import codecs"
   ]
  },
  {
   "cell_type": "code",
   "execution_count": 2,
   "metadata": {},
   "outputs": [],
   "source": [
    "# class Sentences(object):\n",
    "#     def __init__(self, dirname):\n",
    "#         self.dirname = dirname\n",
    " \n",
    "#     def __iter__(self):\n",
    "#         for fname in os.listdir(self.dirname):\n",
    "#             for line in open(os.path.join(self.dirname, fname), 'r'):\n",
    "#                 yield line.split()\n",
    "\n",
    "# sentences = Sentences(os.path.join('w2v', 'wiki.txt')) # a memory-friendly iterator\n",
    "\n",
    "# %%time\n",
    "# model = gensim.models.Word2Vec(sentences, min_count=5, size=100, window=10, sg=1, workers=4)\n",
    "# model.save(os.path.join('model', 'wiki.w2v'))"
   ]
  },
  {
   "cell_type": "code",
   "execution_count": 3,
   "metadata": {
    "scrolled": true
   },
   "outputs": [
    {
     "name": "stderr",
     "output_type": "stream",
     "text": [
      "C:\\Anaconda3\\lib\\site-packages\\smart_open\\smart_open_lib.py:398: UserWarning: This function is deprecated, use smart_open.open instead. See the migration notes for details: https://github.com/RaRe-Technologies/smart_open/blob/master/README.rst#migrating-to-the-new-open-function\n",
      "  'See the migration notes for details: %s' % _MIGRATION_NOTES_URL\n",
      "C:\\Anaconda3\\lib\\site-packages\\smart_open\\smart_open_lib.py:398: UserWarning: This function is deprecated, use smart_open.open instead. See the migration notes for details: https://github.com/RaRe-Technologies/smart_open/blob/master/README.rst#migrating-to-the-new-open-function\n",
      "  'See the migration notes for details: %s' % _MIGRATION_NOTES_URL\n",
      "C:\\Anaconda3\\lib\\site-packages\\gensim\\models\\base_any2vec.py:743: UserWarning: C extension not loaded, training will be slow. Install a C compiler and reinstall gensim for fast training.\n",
      "  \"C extension not loaded, training will be slow. \"\n"
     ]
    }
   ],
   "source": [
    "model = gensim.models.Word2Vec.load(os.path.join('../wiki', 'wiki.w2v'))"
   ]
  },
  {
   "cell_type": "code",
   "execution_count": 4,
   "metadata": {
    "scrolled": true
   },
   "outputs": [
    {
     "name": "stdout",
     "output_type": "stream",
     "text": [
      "프랑스\t0.805075\n",
      "네덜란드\t0.731245\n",
      "독일\t0.703988\n",
      "벨기에\t0.692071\n",
      "영국\t0.682480\n",
      "이탈리아\t0.678474\n",
      "스페인\t0.676110\n",
      "니스\t0.674820\n",
      "하를럼\t0.667609\n",
      "프랑수아\t0.663971\n"
     ]
    }
   ],
   "source": [
    "for t in model.wv.most_similar(positive=[u'파리', u'일본'], negative=[u'도쿄']):\n",
    "    print('%s\\t%f' % (t[0], t[1]))"
   ]
  },
  {
   "cell_type": "code",
   "execution_count": 6,
   "metadata": {},
   "outputs": [
    {
     "name": "stderr",
     "output_type": "stream",
     "text": [
      "C:\\Anaconda3\\lib\\site-packages\\ipykernel_launcher.py:1: DeprecationWarning: Call to deprecated `accuracy` (Method will be removed in 4.0.0, use self.evaluate_word_analogies() instead).\n",
      "  \"\"\"Entry point for launching an IPython kernel.\n",
      "C:\\Anaconda3\\lib\\site-packages\\smart_open\\smart_open_lib.py:398: UserWarning: This function is deprecated, use smart_open.open instead. See the migration notes for details: https://github.com/RaRe-Technologies/smart_open/blob/master/README.rst#migrating-to-the-new-open-function\n",
      "  'See the migration notes for details: %s' % _MIGRATION_NOTES_URL\n"
     ]
    },
    {
     "name": "stdout",
     "output_type": "stream",
     "text": [
      "sem1_capital-conturies\t595\t361\n",
      "sem2_male-female\t102\t319\n",
      "sem3_name-nationality\t51\t558\n",
      "sem4_country-language\t465\t369\n",
      "sem5_misc\t30\t339\n",
      "syn1_case\t0\t0\n",
      "syn2_tense\t0\t0\n",
      "syn3_voice\t0\t0\n",
      "syn4_form\t0\t8\n",
      "syn5_honorific\t0\t0\n",
      "total\t1243\t1954\n"
     ]
    }
   ],
   "source": [
    "result = model.wv.accuracy(os.path.join('../wiki','word_analogy_korean.txt'))\n",
    "#result = model.wv.evaluate_word_anlogies(os.path.join('../wiki','word_analogy_korean.txt'))\n",
    "for r in result:\n",
    "    print('%s\\t%s\\t%s' % (r['section'], len(r['correct']), len(r['incorrect'])))"
   ]
  },
  {
   "cell_type": "code",
   "execution_count": 7,
   "metadata": {},
   "outputs": [
    {
     "name": "stderr",
     "output_type": "stream",
     "text": [
      "C:\\Anaconda3\\lib\\site-packages\\ipykernel_launcher.py:1: DeprecationWarning: Call to deprecated `accuracy` (Method will be removed in 4.0.0, use self.evaluate_word_analogies() instead).\n",
      "  \"\"\"Entry point for launching an IPython kernel.\n",
      "C:\\Anaconda3\\lib\\site-packages\\smart_open\\smart_open_lib.py:398: UserWarning: This function is deprecated, use smart_open.open instead. See the migration notes for details: https://github.com/RaRe-Technologies/smart_open/blob/master/README.rst#migrating-to-the-new-open-function\n",
      "  'See the migration notes for details: %s' % _MIGRATION_NOTES_URL\n"
     ]
    },
    {
     "name": "stdout",
     "output_type": "stream",
     "text": [
      "capital-common-countries\t290\t172\n",
      "capital-world\t879\t479\n",
      "currency\t16\t166\n",
      "city-in-state\t69\t471\n",
      "family\t67\t89\n",
      "total\t1321\t1377\n"
     ]
    }
   ],
   "source": [
    "result = model.wv.accuracy(os.path.join('../wiki','questions-words-kor.txt'))\n",
    "for r in result:\n",
    "    print('%s\\t%s\\t%s' % (r['section'], len(r['correct']), len(r['incorrect'])))"
   ]
  },
  {
   "cell_type": "code",
   "execution_count": 8,
   "metadata": {},
   "outputs": [
    {
     "name": "stdout",
     "output_type": "stream",
     "text": [
      "애완견\n",
      "오샤레\n",
      "코퍼\n",
      "이미테이션\n",
      "이리오모테_산고양이\n",
      "퍼브\n",
      "잉꼬\n",
      "노라먀코\n",
      "뼈다귀\n",
      "네코코네코\n"
     ]
    }
   ],
   "source": [
    "for t in model.wv.most_similar(u'강아지'):\n",
    "    print(t[0])"
   ]
  },
  {
   "cell_type": "code",
   "execution_count": 9,
   "metadata": {},
   "outputs": [
    {
     "data": {
      "text/plain": [
       "0.4533141"
      ]
     },
     "execution_count": 9,
     "metadata": {},
     "output_type": "execute_result"
    }
   ],
   "source": [
    "model.wv.similarity(u'고양이', u'개')"
   ]
  },
  {
   "cell_type": "code",
   "execution_count": 10,
   "metadata": {},
   "outputs": [
    {
     "name": "stdout",
     "output_type": "stream",
     "text": [
      "토끼\n",
      "야생고양이\n",
      "페럿\n",
      "개구리\n",
      "샴고양이\n",
      "늑대\n",
      "가미네코\n",
      "생쥐\n",
      "애완\n",
      "애완견\n"
     ]
    }
   ],
   "source": [
    "for t in model.wv.most_similar(u'고양이'):\n",
    "    print(t[0])"
   ]
  },
  {
   "cell_type": "code",
   "execution_count": 11,
   "metadata": {},
   "outputs": [
    {
     "data": {
      "text/plain": [
       "0.837521"
      ]
     },
     "execution_count": 11,
     "metadata": {},
     "output_type": "execute_result"
    }
   ],
   "source": [
    "model.wv.similarity(u'고양이', u'토끼')"
   ]
  },
  {
   "cell_type": "code",
   "execution_count": 12,
   "metadata": {},
   "outputs": [
    {
     "data": {
      "text/plain": [
       "0.4533141"
      ]
     },
     "execution_count": 12,
     "metadata": {},
     "output_type": "execute_result"
    }
   ],
   "source": [
    "model.wv.similarity(u'고양이', u'개')"
   ]
  },
  {
   "cell_type": "code",
   "execution_count": 13,
   "metadata": {},
   "outputs": [
    {
     "name": "stdout",
     "output_type": "stream",
     "text": [
      "바나나\n",
      "파인애플\n",
      "일이컵\n",
      "코코야자\n",
      "원두커피\n",
      "인디고\n",
      "바닐라\n",
      "화이트_초콜릿\n",
      "다크_초콜릿\n",
      "퀸즈랜드\n",
      "메이플_시럽\n",
      "코코넛\n",
      "블루베리\n",
      "핑크\n",
      "에이전트_블루\n"
     ]
    }
   ],
   "source": [
    "for t in model.wv.most_similar(u'오렌지',topn=15):\n",
    "    print(t[0])"
   ]
  },
  {
   "cell_type": "code",
   "execution_count": null,
   "metadata": {},
   "outputs": [],
   "source": []
  },
  {
   "cell_type": "code",
   "execution_count": null,
   "metadata": {},
   "outputs": [],
   "source": []
  }
 ],
 "metadata": {
  "kernelspec": {
   "display_name": "Python 3",
   "language": "python",
   "name": "python3"
  },
  "language_info": {
   "codemirror_mode": {
    "name": "ipython",
    "version": 3
   },
   "file_extension": ".py",
   "mimetype": "text/x-python",
   "name": "python",
   "nbconvert_exporter": "python",
   "pygments_lexer": "ipython3",
   "version": "3.6.5"
  }
 },
 "nbformat": 4,
 "nbformat_minor": 2
}
