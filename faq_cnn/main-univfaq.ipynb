{
 "cells": [
  {
   "cell_type": "markdown",
   "metadata": {
    "toc": true
   },
   "source": [
    "<h1>Table of Contents<span class=\"tocSkip\"></span></h1>\n",
    "<div class=\"toc\"><ul class=\"toc-item\"><li><span><a href=\"#Data-setting\" data-toc-modified-id=\"Data-setting-1\"><span class=\"toc-item-num\">1&nbsp;&nbsp;</span>Data setting</a></span></li><li><span><a href=\"#Modeling\" data-toc-modified-id=\"Modeling-2\"><span class=\"toc-item-num\">2&nbsp;&nbsp;</span>Modeling</a></span></li><li><span><a href=\"#Training\" data-toc-modified-id=\"Training-3\"><span class=\"toc-item-num\">3&nbsp;&nbsp;</span>Training</a></span></li><li><span><a href=\"#Response\" data-toc-modified-id=\"Response-4\"><span class=\"toc-item-num\">4&nbsp;&nbsp;</span>Response</a></span></li><li><span><a href=\"#Test\" data-toc-modified-id=\"Test-5\"><span class=\"toc-item-num\">5&nbsp;&nbsp;</span>Test</a></span></li><li><span><a href=\"#Appendix\" data-toc-modified-id=\"Appendix-6\"><span class=\"toc-item-num\">6&nbsp;&nbsp;</span>Appendix</a></span></li></ul></div>"
   ]
  },
  {
   "cell_type": "code",
   "execution_count": 1,
   "metadata": {},
   "outputs": [],
   "source": [
    "import pandas as pd\n",
    "\n",
    "import torch\n",
    "import mymodel\n",
    "import torch.nn as nn\n",
    "import torch.nn.functional as F \n",
    "from torch.autograd import Variable \n",
    "import pickle \n",
    "\n",
    "import MeCab\n",
    "from mecab_split import mecabsplit\n",
    "tagger = MeCab.Tagger()"
   ]
  },
  {
   "cell_type": "markdown",
   "metadata": {},
   "source": [
    "## Data setting"
   ]
  },
  {
   "cell_type": "code",
   "execution_count": 2,
   "metadata": {},
   "outputs": [],
   "source": [
    "df=pd.read_csv('college_faq_data.csv',encoding='utf-8')"
   ]
  },
  {
   "cell_type": "code",
   "execution_count": 3,
   "metadata": {},
   "outputs": [
    {
     "data": {
      "text/html": [
       "<div>\n",
       "<style scoped>\n",
       "    .dataframe tbody tr th:only-of-type {\n",
       "        vertical-align: middle;\n",
       "    }\n",
       "\n",
       "    .dataframe tbody tr th {\n",
       "        vertical-align: top;\n",
       "    }\n",
       "\n",
       "    .dataframe thead th {\n",
       "        text-align: right;\n",
       "    }\n",
       "</style>\n",
       "<table border=\"1\" class=\"dataframe\">\n",
       "  <thead>\n",
       "    <tr style=\"text-align: right;\">\n",
       "      <th></th>\n",
       "      <th>category</th>\n",
       "      <th>question</th>\n",
       "      <th>answer</th>\n",
       "    </tr>\n",
       "  </thead>\n",
       "  <tbody>\n",
       "    <tr>\n",
       "      <th>0</th>\n",
       "      <td>등록</td>\n",
       "      <td>대학원 수료생(당 학기 논문제출 예정자)의 경우 등록금 및 생활비 대출이 가능한가요?</td>\n",
       "      <td>대학원 수료생의 경우 일부 금액이 등록금 개념으로 고지된다 하더라도 이 비용은 학점...</td>\n",
       "    </tr>\n",
       "    <tr>\n",
       "      <th>1</th>\n",
       "      <td>등록</td>\n",
       "      <td>비학위과정의 대학원생은 등록금 및 생활비 대출이 가능한가요?</td>\n",
       "      <td>학점 인정을 떠나 비학위과정의 재학생은 대출자격요건에 충족되지 않습니다.\\r\\n\\r...</td>\n",
       "    </tr>\n",
       "    <tr>\n",
       "      <th>2</th>\n",
       "      <td>등록</td>\n",
       "      <td>4년제 대학의 9학기, 2년제의 5학기 등과 같은 학기초과자 학생도 학자금 대출을 ...</td>\n",
       "      <td>원칙적으로 취업을 위한 의도적 졸업유예의 경우 학자금 대출이 불가합니다. 다만 졸업...</td>\n",
       "    </tr>\n",
       "    <tr>\n",
       "      <th>3</th>\n",
       "      <td>등록</td>\n",
       "      <td>학생 평점이 백분위 환산점수로 79.7점입니다. 든든학자금 대출이 가능한가요?</td>\n",
       "      <td>든든학자금 대출의 성적 기준은 80점 이상입니다. 성적은 반올림 처리가 되지 않으므...</td>\n",
       "    </tr>\n",
       "    <tr>\n",
       "      <th>4</th>\n",
       "      <td>등록</td>\n",
       "      <td>재입학생이나 편입생은 재학생군인가요, 신입생 군인가요?</td>\n",
       "      <td>재입학생과 편입생 모두 신입생군에 속합니다.\\r\\n\\r\\n*부서 : 재무회계팀\\r\\...</td>\n",
       "    </tr>\n",
       "  </tbody>\n",
       "</table>\n",
       "</div>"
      ],
      "text/plain": [
       "  category                                           question  \\\n",
       "0       등록    대학원 수료생(당 학기 논문제출 예정자)의 경우 등록금 및 생활비 대출이 가능한가요?   \n",
       "1       등록                  비학위과정의 대학원생은 등록금 및 생활비 대출이 가능한가요?   \n",
       "2       등록  4년제 대학의 9학기, 2년제의 5학기 등과 같은 학기초과자 학생도 학자금 대출을 ...   \n",
       "3       등록        학생 평점이 백분위 환산점수로 79.7점입니다. 든든학자금 대출이 가능한가요?   \n",
       "4       등록                     재입학생이나 편입생은 재학생군인가요, 신입생 군인가요?   \n",
       "\n",
       "                                              answer  \n",
       "0  대학원 수료생의 경우 일부 금액이 등록금 개념으로 고지된다 하더라도 이 비용은 학점...  \n",
       "1  학점 인정을 떠나 비학위과정의 재학생은 대출자격요건에 충족되지 않습니다.\\r\\n\\r...  \n",
       "2  원칙적으로 취업을 위한 의도적 졸업유예의 경우 학자금 대출이 불가합니다. 다만 졸업...  \n",
       "3  든든학자금 대출의 성적 기준은 80점 이상입니다. 성적은 반올림 처리가 되지 않으므...  \n",
       "4  재입학생과 편입생 모두 신입생군에 속합니다.\\r\\n\\r\\n*부서 : 재무회계팀\\r\\...  "
      ]
     },
     "execution_count": 3,
     "metadata": {},
     "output_type": "execute_result"
    }
   ],
   "source": [
    "df.head()"
   ]
  },
  {
   "cell_type": "code",
   "execution_count": 4,
   "metadata": {},
   "outputs": [
    {
     "data": {
      "text/plain": [
       "등록           73\n",
       "생활관          23\n",
       "증명서          23\n",
       "휴복학          20\n",
       "복수전공/연계전공    20\n",
       "수강신청         20\n",
       "기타           17\n",
       "계절제수업        17\n",
       "장학금          15\n",
       "재수강          14\n",
       "캠퍼스견학        12\n",
       "성적/출결        12\n",
       "졸업           11\n",
       "소속변경         10\n",
       "도서관          10\n",
       "ID카드          9\n",
       "건강센터          9\n",
       "YSCEC         8\n",
       "교환학생          7\n",
       "자원봉사          4\n",
       "성폭력/성평등       3\n",
       "장애학생지원        2\n",
       "교원자격증         1\n",
       "Name: category, dtype: int64"
      ]
     },
     "execution_count": 4,
     "metadata": {},
     "output_type": "execute_result"
    }
   ],
   "source": [
    "df.category.value_counts()"
   ]
  },
  {
   "cell_type": "code",
   "execution_count": 5,
   "metadata": {},
   "outputs": [],
   "source": [
    "subset_category=['등록','생활관','수강신청','휴복학','장학금']\n",
    "\n",
    "df=df[df.category.isin(subset_category)]"
   ]
  },
  {
   "cell_type": "code",
   "execution_count": 6,
   "metadata": {},
   "outputs": [],
   "source": [
    "content_vocab = {'unk':0}\n",
    "intent_vocab={}\n",
    "intent_list=[]\n",
    "\n",
    "data_intent=''\n",
    "intent_idx=0\n",
    "vocab_idx=1\n",
    "\n",
    "for line in df.category.unique():\n",
    "    intent=line\n",
    "    if intent not in intent_vocab:\n",
    "        intent_vocab[intent]=intent_idx\n",
    "        intent_list.append(intent)\n",
    "        intent_idx +=1\n",
    "\n",
    "for line in list(df.question):\n",
    "    line = mecabsplit(tagger,line,False)\n",
    "    for it in line:\n",
    "        if it not in content_vocab:\n",
    "            content_vocab[it] = vocab_idx # it : 단어\n",
    "            vocab_idx +=1"
   ]
  },
  {
   "cell_type": "markdown",
   "metadata": {},
   "source": [
    "## Modeling"
   ]
  },
  {
   "cell_type": "code",
   "execution_count": 7,
   "metadata": {},
   "outputs": [
    {
     "name": "stdout",
     "output_type": "stream",
     "text": [
      "451 5\n"
     ]
    },
    {
     "data": {
      "text/plain": [
       "CNN_Text(\n",
       "  (embed): Embedding(451, 100)\n",
       "  (convs1): ModuleList(\n",
       "    (0): Conv2d(1, 20, kernel_size=(1, 100), stride=(1, 1))\n",
       "    (1): Conv2d(1, 20, kernel_size=(2, 100), stride=(1, 1))\n",
       "    (2): Conv2d(1, 20, kernel_size=(3, 100), stride=(1, 1))\n",
       "  )\n",
       "  (dropout): Dropout(p=0.2)\n",
       "  (fc1): Linear(in_features=60, out_features=5, bias=True)\n",
       ")"
      ]
     },
     "execution_count": 7,
     "metadata": {},
     "output_type": "execute_result"
    }
   ],
   "source": [
    "cnn = mymodel.CNN_Text(vocab_idx,intent_idx)\n",
    "print(vocab_idx, intent_idx) # 파일에 나타난 단어수, 의도 갯수(클래스)\n",
    "optimizer = torch.optim.Adam(cnn.parameters())\n",
    "cnn.train()    # train mode로 준비"
   ]
  },
  {
   "cell_type": "markdown",
   "metadata": {},
   "source": [
    "## Training"
   ]
  },
  {
   "cell_type": "code",
   "execution_count": 8,
   "metadata": {
    "code_folding": []
   },
   "outputs": [
    {
     "name": "stdout",
     "output_type": "stream",
     "text": [
      "242.97551809606375\n",
      "169.37900107493624\n",
      "96.56319632707164\n",
      "57.140459277143236\n",
      "35.68843705614563\n",
      "18.125835393228044\n",
      "12.299512944482558\n",
      "10.355155608986024\n",
      "6.935198462255357\n",
      "3.892052376792435\n"
     ]
    }
   ],
   "source": [
    "epoch = 10\n",
    "for e in range(epoch):\n",
    "    totalloss = 0\n",
    "    \n",
    "    for line in df.values:\n",
    "        target=Variable(torch.LongTensor([intent_vocab[line[0]]]))\n",
    "\n",
    "        optimizer.zero_grad()\n",
    "\n",
    "        cont = []\n",
    "        line = mecabsplit(tagger,line[1],False)\n",
    "        for it in line:\n",
    "            cont.append(content_vocab[it])\n",
    "        \n",
    "        \n",
    "        cont = Variable(torch.LongTensor(cont)).view(1,-1)\n",
    "        pred = cnn(cont)\n",
    "        \n",
    "        loss = F.cross_entropy(pred,target)\n",
    "        totalloss += loss.data[0]\n",
    "        loss.backward()  # 필터, 임베딩벡터 값, FC 레이어의 matrix 등 모든 값을 loss를 줄이는 방향으로 계산\n",
    "        optimizer.step() # 벡터값을 변경함\n",
    "    print (totalloss)"
   ]
  },
  {
   "cell_type": "markdown",
   "metadata": {},
   "source": [
    "## Response"
   ]
  },
  {
   "cell_type": "code",
   "execution_count": 9,
   "metadata": {},
   "outputs": [],
   "source": [
    "response=list(df.answer)"
   ]
  },
  {
   "cell_type": "markdown",
   "metadata": {},
   "source": [
    "## Test"
   ]
  },
  {
   "cell_type": "code",
   "execution_count": 10,
   "metadata": {},
   "outputs": [],
   "source": [
    "test=[]\n",
    "for i in intent_list:\n",
    "    subset_df=df.query('category==\"{}\"'.format(i))\n",
    "    test.append(subset_df.question.values[0])"
   ]
  },
  {
   "cell_type": "code",
   "execution_count": 11,
   "metadata": {},
   "outputs": [
    {
     "data": {
      "text/plain": [
       "['대학원 수료생(당 학기 논문제출 예정자)의 경우 등록금 및 생활비 대출이 가능한가요?',\n",
       " '동록금을 납부한 뒤 휴학을 하면 나중에 복학할 때 등록금을 납부하지 않아도 되나요?',\n",
       " '2, 3차 복학 후 수강신청시 불이익이 있나요?',\n",
       " '한국장학재단 학자금 대출 시 특별 추천은 어떤 경우에 받을 수 있나요?',\n",
       " '생활관과 신촌역을 연결하는 교통편이 있나요?']"
      ]
     },
     "execution_count": 11,
     "metadata": {},
     "output_type": "execute_result"
    }
   ],
   "source": [
    "test"
   ]
  },
  {
   "cell_type": "code",
   "execution_count": 12,
   "metadata": {},
   "outputs": [],
   "source": [
    "## your test input\n",
    "test=['1학기 수강신청 기간 언제인가요?']"
   ]
  },
  {
   "cell_type": "code",
   "execution_count": 13,
   "metadata": {
    "scrolled": false
   },
   "outputs": [
    {
     "name": "stdout",
     "output_type": "stream",
     "text": [
      "input :  ['1', '학기', '수강', '신청', '기간', '언제', '이', 'ᆫ가요', '?']\n",
      "intent :  수강신청\n",
      "answer :  원칙적으로 취업을 위한 의도적 졸업유예의 경우 학자금 대출이 불가합니다. 다만 졸업유예가 아닌 학교에서 인정하는 정규학기일 경우 학사정보 및 수납원장을 해당 졸업학년으로 업로드 해 주시면 학자금 대출이 가능합니다.\r\n",
      "\r\n",
      "*부서 : 재무회계팀\r\n",
      "*전화번호 : 02-2123-4500 \n",
      "\n"
     ]
    }
   ],
   "source": [
    "for idx in list(test):\n",
    "    line = mecabsplit(tagger,idx,False)\n",
    "   \n",
    "    cont = []\n",
    "    for it in line:\n",
    "        if it in content_vocab:\n",
    "            cont.append(content_vocab[it])  # cont에는 입력문에 나타난 단어들의 index 저장됨\n",
    "        else:\n",
    "            cont.append(content_vocab['unk'])\n",
    "    \n",
    "    cont = Variable(torch.LongTensor(cont)).view(1,-1)\n",
    "    pred = cnn(cont)\n",
    "    v,i = torch.max(pred,1) # pred는 (p1, p2) 즉, 클래스별 확률 v: 둘중 큰값 i:큰값 클래스의 인덱스\n",
    "    \n",
    "    print('input : ',line)\n",
    "    print('intent : ',intent_list[int(i)])\n",
    "    print('answer : ',response[int(i)],'\\n')"
   ]
  },
  {
   "cell_type": "code",
   "execution_count": null,
   "metadata": {},
   "outputs": [],
   "source": []
  },
  {
   "cell_type": "code",
   "execution_count": null,
   "metadata": {},
   "outputs": [],
   "source": []
  }
 ],
 "metadata": {
  "kernelspec": {
   "display_name": "Python 3",
   "language": "python",
   "name": "python3"
  },
  "language_info": {
   "codemirror_mode": {
    "name": "ipython",
    "version": 3
   },
   "file_extension": ".py",
   "mimetype": "text/x-python",
   "name": "python",
   "nbconvert_exporter": "python",
   "pygments_lexer": "ipython3",
   "version": "3.6.5"
  },
  "toc": {
   "base_numbering": 1,
   "nav_menu": {},
   "number_sections": true,
   "sideBar": true,
   "skip_h1_title": true,
   "title_cell": "Table of Contents",
   "title_sidebar": "Contents",
   "toc_cell": true,
   "toc_position": {
    "height": "calc(100% - 180px)",
    "left": "10px",
    "top": "150px",
    "width": "165px"
   },
   "toc_section_display": true,
   "toc_window_display": true
  },
  "varInspector": {
   "cols": {
    "lenName": 16,
    "lenType": 16,
    "lenVar": 40
   },
   "kernels_config": {
    "python": {
     "delete_cmd_postfix": "",
     "delete_cmd_prefix": "del ",
     "library": "var_list.py",
     "varRefreshCmd": "print(var_dic_list())"
    },
    "r": {
     "delete_cmd_postfix": ") ",
     "delete_cmd_prefix": "rm(",
     "library": "var_list.r",
     "varRefreshCmd": "cat(var_dic_list()) "
    }
   },
   "types_to_exclude": [
    "module",
    "function",
    "builtin_function_or_method",
    "instance",
    "_Feature"
   ],
   "window_display": false
  }
 },
 "nbformat": 4,
 "nbformat_minor": 2
}
