{
 "cells": [
  {
   "cell_type": "code",
   "execution_count": 1,
   "metadata": {},
   "outputs": [],
   "source": [
    "import torch\n",
    "import mymodel\n",
    "import torch.nn as nn\n",
    "import torch.nn.functional as F \n",
    "from torch.autograd import Variable \n",
    "import pickle  \n",
    "import MeCab\n",
    "from mecab_split import mecabsplit\n",
    "tagger = MeCab.Tagger()"
   ]
  },
  {
   "cell_type": "code",
   "execution_count": 2,
   "metadata": {},
   "outputs": [],
   "source": [
    "content_vocab = {'unk':0}\n",
    "intent_vocab={}\n",
    "intent_list=[]\n",
    "\n",
    "data_intent=''\n",
    "intent_idx=0\n",
    "vocab_idx=1\n",
    "\n",
    "for line in open('mydata.txt','r',encoding='utf-8'):\n",
    "    line = line.strip().split('\\t')\n",
    "    if len(line)>1:\n",
    "        intent=line[1]\n",
    "        if intent not in intent_vocab:\n",
    "            intent_vocab[intent]=intent_idx\n",
    "            intent_list.append(intent)\n",
    "            intent_idx +=1\n",
    "    else:\n",
    "        line = mecabsplit(tagger,line[0],False)\n",
    "        for it in line:\n",
    "            if it not in content_vocab:\n",
    "                content_vocab[it] = vocab_idx # it : 단어\n",
    "                vocab_idx +=1\n",
    "                \n",
    "                "
   ]
  },
  {
   "cell_type": "code",
   "execution_count": 3,
   "metadata": {},
   "outputs": [
    {
     "name": "stdout",
     "output_type": "stream",
     "text": [
      "43 2\n"
     ]
    },
    {
     "data": {
      "text/plain": [
       "CNN_Text(\n",
       "  (embed): Embedding(43, 100)\n",
       "  (convs1): ModuleList(\n",
       "    (0): Conv2d(1, 20, kernel_size=(1, 100), stride=(1, 1))\n",
       "    (1): Conv2d(1, 20, kernel_size=(2, 100), stride=(1, 1))\n",
       "    (2): Conv2d(1, 20, kernel_size=(3, 100), stride=(1, 1))\n",
       "  )\n",
       "  (dropout): Dropout(p=0.2)\n",
       "  (fc1): Linear(in_features=60, out_features=2, bias=True)\n",
       ")"
      ]
     },
     "execution_count": 3,
     "metadata": {},
     "output_type": "execute_result"
    }
   ],
   "source": [
    "cnn = mymodel.CNN_Text(vocab_idx,intent_idx)\n",
    "print(vocab_idx, intent_idx) # 파일에 나타난 단어수, 의도 갯수(클래스)\n",
    "optimizer = torch.optim.Adam(cnn.parameters())\n",
    "cnn.train()    # train mode로 준비"
   ]
  },
  {
   "cell_type": "code",
   "execution_count": 4,
   "metadata": {},
   "outputs": [
    {
     "name": "stdout",
     "output_type": "stream",
     "text": [
      "15.614544580595066\n",
      "0.6688970052032346\n",
      "0.08486135498628755\n",
      "0.07373530421537566\n",
      "0.04899213710632466\n",
      "0.050210166377851806\n",
      "0.029921369127933417\n",
      "0.01791420551213463\n",
      "0.00924291302429836\n",
      "0.010030436675130261\n"
     ]
    }
   ],
   "source": [
    "epoch = 10\n",
    "for e in range(epoch):\n",
    "    totalloss = 0\n",
    "    for line in open('mydata.txt','r',encoding='utf-8'): # 패턴 파일의 line별로 처리\n",
    "        line = line.strip().split('\\t')\n",
    "    \n",
    "        if len(line)> 1:\n",
    "            target = Variable(torch.LongTensor([intent_vocab[line[1]]])) \n",
    "                     # LongTensor는 정수값 텐서\n",
    "            continue\n",
    "\n",
    "        optimizer.zero_grad()\n",
    "\n",
    "        cont = []\n",
    "        line = mecabsplit(tagger,line[0],False)\n",
    "        for it in line:\n",
    "            cont.append(content_vocab[it])\n",
    "        cont = Variable(torch.LongTensor(cont)).view(1,-1)\n",
    "        pred = cnn(cont)\n",
    "        \n",
    "        loss = F.cross_entropy(pred,target)\n",
    "        totalloss += loss.data[0]\n",
    "        loss.backward()  # 필터, 임베딩벡터 값, FC 레이어의 matrix 등 모든 값을 loss를 줄이는 방향으로 계산\n",
    "        optimizer.step() # 벡터값을 변경함\n",
    "    print (totalloss)"
   ]
  },
  {
   "cell_type": "code",
   "execution_count": 5,
   "metadata": {},
   "outputs": [],
   "source": [
    "response = []\n",
    "for line in open('response.txt','r',encoding='utf-8'):\n",
    "    line=line.strip()\n",
    "    response.append(line)"
   ]
  },
  {
   "cell_type": "code",
   "execution_count": 6,
   "metadata": {},
   "outputs": [
    {
     "name": "stdout",
     "output_type": "stream",
     "text": [
      "input :  ['해외', '송금', '하', '려는데', '수수', '료', '얼마', '이', '죠', '?']\n",
      "intent :  해외송금수수료\n",
      "해외 송금시 수수료는 미화 2천달러 이하는 10,000입니다. 자세한 내용은 고객상담센터로 문의하세요.\n",
      "\n",
      "input :  ['이체한도', '얼마', '이', 'ᆫ지', '조회', '하', 'ᆯ래요']\n",
      "intent :  이체한도조회\n",
      "이체한도 조회 및 변경은 홈페이지에서 하실 수 있습니다.\n",
      "\n"
     ]
    }
   ],
   "source": [
    "for line in open('testdata.txt','r',encoding='utf-8'):\n",
    "    line = line.strip()\n",
    "    \n",
    "    line = mecabsplit(tagger,line,False)\n",
    "    cont = []\n",
    "    for it in line:\n",
    "        if it in content_vocab:\n",
    "            cont.append(content_vocab[it])  # cont에는 입력문에 나타난 단어들의 index 저장됨\n",
    "        else:\n",
    "            cont.append(content_vocab['unk'])\n",
    "    cont = Variable(torch.LongTensor(cont)).view(1,-1)\n",
    "    pred = cnn(cont)\n",
    "    v,i = torch.max(pred,1) # pred는 (p1, p2) 즉, 클래스별 확률 v: 둘중 큰값 i:큰값 클래스의 인덱스\n",
    "    \n",
    "    print('input : ',line)\n",
    "    print('intent : ',intent_list[int(i)])\n",
    "    print(response[int(i)])\n",
    "    print()"
   ]
  },
  {
   "cell_type": "code",
   "execution_count": null,
   "metadata": {},
   "outputs": [],
   "source": []
  }
 ],
 "metadata": {
  "kernelspec": {
   "display_name": "Python 3",
   "language": "python",
   "name": "python3"
  },
  "language_info": {
   "codemirror_mode": {
    "name": "ipython",
    "version": 3
   },
   "file_extension": ".py",
   "mimetype": "text/x-python",
   "name": "python",
   "nbconvert_exporter": "python",
   "pygments_lexer": "ipython3",
   "version": "3.6.5"
  }
 },
 "nbformat": 4,
 "nbformat_minor": 2
}
